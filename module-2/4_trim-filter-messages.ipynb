{
 "cells": [
  {
   "cell_type": "markdown",
   "id": "c52ea2f9-03ff-4647-b782-46867ebed04e",
   "metadata": {},
   "source": [
    "# Filtering and trimming messages\n",
    "\n",
    "## Review\n",
    "\n",
    "Now, we have a deeper understanding of a few things: \n",
    "\n",
    "* How to customize the graph state schema\n",
    "* How to define custom state reducers\n",
    "* How to use multiple graph state schemas\n",
    "\n",
    "## Goals\n",
    "\n",
    "Now, we can start using these concepts with models in LangGraph!\n",
    " \n",
    "In the next few sessions, we'll build towards a chatbot that has long-term memory.\n",
    "\n",
    "Because our chatbot will use messages, let's first talk a bit more about advanced ways to work with messages in graph state."
   ]
  },
  {
   "cell_type": "code",
   "execution_count": null,
   "id": "d5197aba-5d46-421b-ae3b-4e3034edcfda",
   "metadata": {},
   "outputs": [],
   "source": [
    "%%capture --no-stderr\n",
    "%pip install --quiet -U langchain_core langgraph langchain_openai"
   ]
  },
  {
   "cell_type": "code",
   "execution_count": 3,
   "id": "768dc606-d5f2-468d-96ea-910b264e0f8a",
   "metadata": {},
   "outputs": [],
   "source": [
    "import os, getpass\n",
    "\n",
    "def _set_env(var: str):\n",
    "    if not os.environ.get(var):\n",
    "        os.environ[var] = getpass.getpass(f\"{var}: \")\n",
    "\n",
    "_set_env(\"OPENAI_API_KEY\")"
   ]
  },
  {
   "cell_type": "markdown",
   "id": "8b64d8d3-e4ac-4961-bdc0-688825eb5864",
   "metadata": {},
   "source": [
    "We'll use [LangSmith](https://docs.smith.langchain.com/) for [tracing](https://docs.smith.langchain.com/concepts/tracing).\n",
    "\n",
    "We'll log to a project, `langchain-academy`. "
   ]
  },
  {
   "cell_type": "code",
   "execution_count": 2,
   "id": "dd020c79",
   "metadata": {},
   "outputs": [],
   "source": [
    "_set_env(\"LANGCHAIN_API_KEY\")\n",
    "os.environ[\"LANGCHAIN_TRACING_V2\"] = \"true\"\n",
    "os.environ[\"LANGCHAIN_PROJECT\"] = \"langchain-academy\""
   ]
  },
  {
   "cell_type": "markdown",
   "id": "72f3fc90-58b6-4f7f-897e-dddf6ae532c7",
   "metadata": {},
   "source": [
    "## Messages as state\n",
    "\n",
    "First, let's define some messages."
   ]
  },
  {
   "cell_type": "code",
   "execution_count": 53,
   "id": "cf11a463-e27a-4a05-b41d-64882e38edca",
   "metadata": {},
   "outputs": [
    {
     "name": "stdout",
     "output_type": "stream",
     "text": [
      "==================================\u001b[1m Ai Message \u001b[0m==================================\n",
      "Name: Bot\n",
      "\n",
      "So you said you were researching ocean mammals?\n",
      "================================\u001b[1m Human Message \u001b[0m=================================\n",
      "Name: Lance\n",
      "\n",
      "Yes, I know about whales. But what others should I learn about?\n"
     ]
    }
   ],
   "source": [
    "from pprint import pprint\n",
    "from langchain_core.messages import AIMessage, HumanMessage\n",
    "messages = [AIMessage(content = f\"So you said you were researching ocean mammals?\", name=\"Bot\", id = 1)]\n",
    "messages.append(HumanMessage(content = f\"Yes, I know about whales. But what others should I learn about?\", name=\"Lance\", id = 2))\n",
    "\n",
    "for m in messages:\n",
    "    m.pretty_print()\n",
    "    # pprint(m)"
   ]
  },
  {
   "cell_type": "markdown",
   "id": "b814adcb-6bf9-4b75-be11-e59f933fbd0c",
   "metadata": {},
   "source": [
    "Recall we can pass them to a chat model."
   ]
  },
  {
   "cell_type": "code",
   "execution_count": 54,
   "id": "4712e288-e622-48a2-ad3f-a52f65f3ab08",
   "metadata": {},
   "outputs": [
    {
     "name": "stdout",
     "output_type": "stream",
     "text": [
      "==================================\u001b[1m Ai Message \u001b[0m==================================\n",
      "\n",
      "In addition to whales, there are several other fascinating ocean mammals you might want to learn about:\n",
      "\n",
      "1. **Dolphins**: Known for their intelligence and playful behavior, dolphins are social animals that often live in pods. The bottlenose dolphin is one of the most well-known species.\n",
      "\n",
      "2. **Porpoises**: Similar to dolphins, porpoises are smaller and have a rounder body. They are generally less acrobatic than dolphins but are equally social.\n",
      "\n",
      "3. **Seals**: This group includes true seals (like the harbor seal) and eared seals (like sea lions). They are known for their whiskers and can often be seen lounging on rocks or beaches.\n",
      "\n",
      "4. **Sea Lions**: These are a type of eared seal known for their external ear flaps and more social behavior. They are often found in large colonies.\n",
      "\n",
      "5. **Manatees**: Also known as sea cows, manatees are gentle herbivores that inhabit coastal waters and rivers. They are known for their slow-moving nature.\n",
      "\n",
      "6. **Dugongs**: Similar to manatees, dugongs are marine herbivores found in warmer waters. They have a more streamlined body and a distinctive fluked tail.\n",
      "\n",
      "7. **Narwhals**: Often referred to as the \"unicorns of the sea,\" narwhals are known for their long, spiral tusk, which is actually an elongated tooth.\n",
      "\n",
      "8. **Beluga Whales**: Known for their white color and vocalizations, belugas are social creatures found in Arctic and sub-Arctic regions.\n",
      "\n",
      "9. **Orcas (Killer Whales)**: While they are technically the largest members of the dolphin family, orcas are often studied separately due to their distinct social structures and hunting techniques.\n",
      "\n",
      "10. **Sea Otters**: These small, furry mammals are known for their playful behavior and use of tools to crack open shellfish.\n",
      "\n",
      "Each of these mammals has unique adaptations and behaviors that make them interesting to study!\n",
      "<class 'langchain_core.messages.ai.AIMessage'>\n"
     ]
    }
   ],
   "source": [
    "from langchain_openai import ChatOpenAI \n",
    "\n",
    "llm = ChatOpenAI(model=\"gpt-4o-mini\")\n",
    "\n",
    "llm.invoke(messages).pretty_print() \n",
    "\n",
    "print(type(llm.invoke(messages)))"
   ]
  },
  {
   "cell_type": "code",
   "execution_count": 32,
   "id": "f4f7597a",
   "metadata": {},
   "outputs": [
    {
     "name": "stdout",
     "output_type": "stream",
     "text": [
      "==================================\u001b[1m Ai Message \u001b[0m==================================\n",
      "\n",
      "Besides whales, there are many other fascinating ocean mammals. Here are a few you might want to learn about:\n",
      "\n",
      "1. **Dolphins**: These intelligent and social creatures are closely related to whales. They're known for their playful behavior and ability to communicate with each other using clicks and whistles.\n",
      "2. **Seals and Sea Lions**: These fin-footed mammals are found in oceans around the world. They're skilled swimmers and divers, and are known for their ability to haul themselves out of the water onto rocks and beaches.\n",
      "3. **Walruses**: These large, tusked mammals are found in the Arctic and sub-Arctic oceans. They're skilled divers and feed on clams and other marine animals.\n",
      "4. **Manatees**: These gentle creatures are found in shallow waters in the Caribbean and Gulf of Mexico. They're also known as sea cows, and feed on seaweed and other aquatic plants.\n",
      "5. **Dugongs**: These large, herbivorous mammals are found in shallow waters in the Pacific and Indian Oceans. They're related to manatees, but are found in different parts of the world.\n",
      "6. **Otters**: While not exclusively ocean mammals, some species of otters, such as the sea otter, are found in coastal waters and feed on marine animals like shellfish and fish.\n",
      "\n",
      "These are just a few examples of the many ocean mammals that exist. Each one has its own unique characteristics and adaptations that allow it to thrive in its environment.\n",
      "\n",
      "Which one of these ocean mammals would you like to learn more about?\n",
      "<class 'langchain_core.messages.ai.AIMessage'>\n"
     ]
    }
   ],
   "source": [
    "from langchain_groq import ChatGroq \n",
    "\n",
    "llm_70b = ChatGroq(model = \"llama-3.1-70b-versatile\", temperature = 0) \n",
    "\n",
    "llm_70b.invoke(messages).pretty_print() \n",
    "\n",
    "print(type(llm_70b.invoke(messages)))"
   ]
  },
  {
   "cell_type": "code",
   "execution_count": 33,
   "id": "16fc25c0",
   "metadata": {},
   "outputs": [
    {
     "name": "stdout",
     "output_type": "stream",
     "text": [
      "==================================\u001b[1m Ai Message \u001b[0m==================================\n",
      "\n",
      "There are many fascinating ocean mammals beyond whales. Here are some you might find interesting:\n",
      "\n",
      "1. **Dolphins**: Known for their intelligence and social behavior, dolphins are highly social marine mammals that communicate using clicks and whistles.\n",
      "2. **Seals and Sea Lions**: These pinnipeds (fin-footed mammals) are found in oceans worldwide and are known for their agility and playful nature.\n",
      "3. **Walruses**: Large, carnivorous mammals with distinctive tusks, walruses are found in the Arctic and sub-Arctic regions.\n",
      "4. **Manatees**: Also known as sea cows, manatees are large, slow-moving mammals that inhabit shallow waters in the Caribbean and Gulf of Mexico.\n",
      "5. **Dugongs**: Similar to manatees, dugongs are large, herbivorous mammals found in the warm waters of the Indo-Pacific region.\n",
      "6. **Belugas**: Small, white whales with distinctive rounded foreheads, belugas are found in the Arctic and sub-Arctic regions.\n",
      "7. **Narwhals**: Known for their distinctive tusks, narwhals are found in the Arctic and are considered one of the most mysterious ocean mammals.\n",
      "8. **Porpoises**: Small, toothed whales that are often mistaken for dolphins, porpoises are found in oceans worldwide.\n",
      "9. **Monk Seals**: Endangered species found in the Pacific and Indian Oceans, monk seals are known for their distinctive V-shaped nostrils.\n",
      "10. **Vaquitas**: The smallest porpoise in the world, vaquitas are critically endangered and found only in the Gulf of California.\n",
      "\n",
      "These are just a few examples of the many fascinating ocean mammals that exist. Each one has its unique characteristics, habits, and habitats, making them all worth learning about.\n",
      "<class 'langchain_core.messages.ai.AIMessage'>\n"
     ]
    }
   ],
   "source": [
    "from langchain_groq import ChatGroq \n",
    "\n",
    "llm_8b = ChatGroq(model = \"llama-3.1-8b-instant\", temperature = 0) \n",
    "\n",
    "llm_8b.invoke(messages).pretty_print()\n",
    "\n",
    "print(type(llm_8b.invoke(messages)))"
   ]
  },
  {
   "cell_type": "code",
   "execution_count": 34,
   "id": "17b3b36e",
   "metadata": {},
   "outputs": [
    {
     "name": "stdout",
     "output_type": "stream",
     "text": [
      "==================================\u001b[1m Ai Message \u001b[0m==================================\n",
      "\n",
      "There are many fascinating ocean mammals beyond whales. Here are some you might find interesting:\n",
      "\n",
      "1. **Dolphins**: These intelligent, social creatures are known for their playful behavior and ability to communicate with each other using clicks and whistles.\n",
      "2. **Seals and Sea Lions**: These fin-footed mammals are closely related to walruses and are found in oceans worldwide. They're known for their agility and ability to haul out on land.\n",
      "3. **Walruses**: With their distinctive tusks and blubbery bodies, walruses are a common sight in Arctic and sub-Arctic waters. They're skilled swimmers and can dive to great depths.\n",
      "4. **Manatees**: Also known as sea cows, manatees are large, slow-moving mammals that inhabit shallow waters in the Caribbean and Gulf of Mexico.\n",
      "5. **Monk Seals**: These small, eel-like mammals are found in tropical and subtropical waters and are known for their ability to sleep with only half their brain at a time.\n",
      "6. **Otters**: There are several species of otters, including sea otters, which are found in coastal waters and are known for their thick fur and playful behavior.\n",
      "7. **Dugongs**: Also known as sea cows, dugongs are large, herbivorous mammals that inhabit shallow waters in the Indo-Pacific region.\n",
      "8. **Belugas**: These small, white whales are found in Arctic and sub-Arctic waters and are known for their distinctive calls and social behavior.\n",
      "9. **Porpoises**: Porpoises are small, toothed whales that are found in oceans worldwide. They're known for their shy behavior and ability to swim quickly.\n",
      "10. **Sperm Whales**: These large, toothed whales are found in oceans worldwide and are known for their massive heads and distinctive rounded foreheads.\n",
      "\n",
      "These are just a few examples of the many fascinating ocean mammals that exist. Each species has its unique characteristics, habits, and habitats, making them all worth learning about!\n"
     ]
    }
   ],
   "source": [
    "from langchain_groq import ChatGroq \n",
    "\n",
    "llm_8b_3 = ChatGroq(model = \"llama3-8b-8192\", temperature = 0) \n",
    "\n",
    "llm_8b_3.invoke(messages).pretty_print()"
   ]
  },
  {
   "cell_type": "code",
   "execution_count": 36,
   "id": "e6d28d82",
   "metadata": {},
   "outputs": [
    {
     "name": "stdout",
     "output_type": "stream",
     "text": [
      "==================================\u001b[1m Ai Message \u001b[0m==================================\n",
      "\n",
      "Great! Whales are fascinating creatures. There are many other ocean mammals that are worth learning about. Here are a few:\n",
      "\n",
      "1. Dolphins: Dolphins are highly intelligent and social animals that are known for their playful behavior and acrobatic displays. They are found in oceans all around the world and come in many different species, such as the bottlenose dolphin, common dolphin, and orca (also known as the killer whale).\n",
      "2. Porpoises: Porpoises are similar to dolphins but are generally smaller and have a more rounded head. They are also found in oceans worldwide and are known for their shy and elusive behavior.\n",
      "3. Seals: Seals are marine mammals that are adapted to life in the water and on land. They have a streamlined body and limbs that have evolved into flippers. Seals are found in both the Northern and Southern Hemispheres and come in many different species, such as the harbor seal, gray seal, and elephant seal.\n",
      "4. Sea Lions: Sea lions are marine mammals that are similar to seals but have external ears and are generally larger and more robust. They are found in the Pacific Ocean and come in several different species, such as the California sea lion, Steller sea lion, and South American sea lion.\n",
      "5. Manatees: Manatees are large, gentle aquatic mammals that are found in warm, shallow waters in the Caribbean, Gulf of Mexico, and along the coast of West Africa. They are also known as sea cows and are herbivores that feed on aquatic plants.\n",
      "6. Sea Otters: Sea otters are marine mammals that are found in the North Pacific Ocean. They are known for their playful behavior and their thick, waterproof fur, which keeps them warm in the cold ocean waters. Sea otters are also skilled hunters and use tools, such as rocks, to break open shellfish.\n",
      "\n",
      "These are just a few examples of the many ocean mammals that are worth learning about. Each one has its own unique adaptations and behaviors that make them fascinating creatures to study.\n"
     ]
    }
   ],
   "source": [
    "from langchain_groq import ChatGroq \n",
    "\n",
    "llm_8x7b = ChatGroq(model = \"mixtral-8x7b-32768\", temperature = 0) \n",
    "\n",
    "llm_8x7b.invoke(messages).pretty_print()"
   ]
  },
  {
   "cell_type": "code",
   "execution_count": 44,
   "id": "e0994ead",
   "metadata": {},
   "outputs": [
    {
     "name": "stdout",
     "output_type": "stream",
     "text": [
      "==================================\u001b[1m Ai Message \u001b[0m==================================\n",
      "\n",
      "That's great! Whales are fascinating, but the world of ocean mammals is vast and diverse.  Here are some other amazing creatures to explore:\n",
      "\n",
      "**Dolphins:** \n",
      "* **Intelligence:** Known for their playful nature and complex communication skills.\n",
      "* **Social Structure:** Live in pods with strong social bonds and intricate hierarchies.\n",
      "* **Unique Adaptations:** Echolocation, a system of sound-based navigation that allows them to \"see\" in the dark.\n",
      "\n",
      "**Seals & Sea Lions:** \n",
      "* **Aquatic Acrobatics:**  Known for their playful nature and impressive swimming abilities.\n",
      "* **Diverse Habitats:** Found in coastal areas around the world, from icy Arctic waters to warm tropical seas.\n",
      "* **Unique Adaptations:** Blubber for insulation, flippers for efficient movement through water.\n",
      "\n",
      "**Manatees & Sea Otters:** \n",
      "* **Gentle Giants:** Manatees are herbivores known for their slow-moving nature and gentle demeanor.\n",
      "* **Sea Otter's Efficiency:**  Sea otters are highly skilled hunters, using tools like rocks to catch prey.\n",
      "* **Unique Adaptations:**  Manatees have a thick layer of blubber for warmth, while sea otters have dense fur that keeps them warm in cold water.\n",
      "\n",
      "**Other Interesting Options:** \n",
      "* **Polar Bears:** The apex predator of the Arctic, known for their incredible strength and resilience.\n",
      "* **Sharks:**  Apex predators with diverse forms and adaptations, playing a crucial role in marine ecosystems.\n",
      "* **Mantis Shrimp:**  These tiny crustaceans have incredibly powerful eyes and unique defense mechanisms.\n",
      "\n",
      "\n",
      "**To help you narrow down your research, consider these questions:**\n",
      "\n",
      "* **What aspects of ocean mammals are most interesting to you?** (e.g., intelligence, social behavior, adaptations)\n",
      "* **Do you prefer learning about specific species or broader groups?** \n",
      "* **Are you interested in conservation efforts or the impact of humans on ocean mammals?**\n",
      "\n",
      "\n",
      "Let me know what piques your interest and I can provide more information!  😊\n"
     ]
    }
   ],
   "source": [
    "from langchain_ollama import ChatOllama \n",
    "\n",
    "llm_ollama = ChatOllama(model = \"gemma2:2b\", temperature = 0) \n",
    "\n",
    "llm_ollama.invoke(messages).pretty_print()"
   ]
  },
  {
   "cell_type": "code",
   "execution_count": 48,
   "id": "490b6ec0",
   "metadata": {},
   "outputs": [
    {
     "name": "stdout",
     "output_type": "stream",
     "text": [
      "That's great! Whales are fascinating, but the world of ocean mammals is vast and diverse.  Here are some other amazing creatures to explore:\n",
      "\n",
      "**Dolphins:** \n",
      "* **Intelligence:** Known for their playful nature and complex communication skills.\n",
      "* **Social Structure:** Live in pods with strong social bonds and intricate hierarchies.\n",
      "* **Unique Adaptations:** Echolocation, a system of sound-based navigation that allows them to \"see\" in the dark.\n",
      "\n",
      "**Seals & Sea Lions:** \n",
      "* **Aquatic Acrobatics:**  Known for their playful nature and impressive swimming abilities.\n",
      "* **Diverse Habitats:** Found in coastal areas around the world, from icy Arctic waters to warm tropical seas.\n",
      "* **Unique Adaptations:** Blubber for insulation, flippers for efficient movement through water.\n",
      "\n",
      "**Manatees & Sea Otters:** \n",
      "* **Gentle Giants:** Manatees are herbivores known for their slow-moving nature and gentle demeanor.\n",
      "* **Sea Otter's Efficiency:**  Sea otters are highly skilled hunters, using tools like rocks to catch prey.\n",
      "* **Unique Adaptations:**  Manatees have a thick layer of blubber for warmth, while sea otters have dense fur that keeps them warm in cold water.\n",
      "\n",
      "**Other Interesting Options:** \n",
      "* **Polar Bears:** The apex predator of the Arctic, known for their incredible strength and resilience.\n",
      "* **Sharks:**  Apex predators with diverse forms and adaptations, playing a crucial role in marine ecosystems.\n",
      "* **Mantis Shrimp:**  These tiny crustaceans have incredibly powerful eyes and unique defense mechanisms.\n",
      "\n",
      "\n",
      "**To help you narrow down your research, consider these questions:**\n",
      "\n",
      "* **What aspects of ocean mammals are most interesting to you?** (e.g., intelligence, social behavior, adaptations)\n",
      "* **Do you prefer learning about specific species or broader groups?** \n",
      "* **Are you interested in conservation efforts or the impact of humans on ocean mammals?**\n",
      "\n",
      "\n",
      "Let me know what piques your interest and I can provide more information!  😊 \n"
     ]
    }
   ],
   "source": [
    "from langchain_ollama import ChatOllama \n",
    "\n",
    "llm_ollama_stream = ChatOllama(model = \"gemma2:2b\", temperature = 0) \n",
    "\n",
    "for chunk in llm_ollama_stream.stream(messages): \n",
    "    print(chunk.content, end = \"\")"
   ]
  },
  {
   "cell_type": "code",
   "execution_count": null,
   "id": "a1514ebd",
   "metadata": {},
   "outputs": [],
   "source": [
    "from langgraph.graph.message import add_messages\n",
    "\n",
    "new_message = HumanMessage(content = f\"What other animals can I learn about. Limit your response to only five animals, then end your response.\", name = \"Bot\", id =2)\n",
    "\n",
    "add_messages(messages, new_message)\n",
    "\n",
    "from langchain_ollama import ChatOllama \n",
    "\n",
    "llm_ollama_phi_3 = ChatOllama(model = \"phi3:mini\", temperature = 0) \n",
    "\n",
    "# llm_ollama_phi_3.invoke(input = messages).pretty_print()\n",
    "\n",
    "for chunk in llm_ollama_phi_3.stream(messages): \n",
    "    print(chunk.content, end = \"\") # Outputs continuously, without reaching an /end token"
   ]
  },
  {
   "cell_type": "markdown",
   "id": "fbd1dab8-0af8-4621-8264-ce65065f76ec",
   "metadata": {},
   "source": [
    "We can run our chat model in a simple graph with `MessagesState`."
   ]
  },
  {
   "cell_type": "code",
   "execution_count": 37,
   "id": "bbd8c39c-633b-4176-9cc6-8318e42bb5dd",
   "metadata": {},
   "outputs": [
    {
     "data": {
      "image/jpeg": "[encoded data removed]",
      "text/plain": [
       "<IPython.core.display.Image object>"
      ]
     },
     "metadata": {},
     "output_type": "display_data"
    }
   ],
   "source": [
    "from IPython.display import Image, display\n",
    "from langgraph.graph import MessagesState\n",
    "from langgraph.graph import StateGraph, START, END\n",
    "\n",
    "# Node\n",
    "def chat_model_node(state: MessagesState):\n",
    "    return {\"messages\": llm.invoke(state[\"messages\"])}\n",
    "\n",
    "# Build graph\n",
    "builder = StateGraph(MessagesState)\n",
    "builder.add_node(\"chat_model\", chat_model_node)\n",
    "builder.add_edge(START, \"chat_model\")\n",
    "builder.add_edge(\"chat_model\", END)\n",
    "graph = builder.compile()\n",
    "\n",
    "# View\n",
    "display(Image(graph.get_graph().draw_mermaid_png()))"
   ]
  },
  {
   "cell_type": "code",
   "execution_count": 62,
   "id": "3a5a3e4a-ccfd-4d14-81f1-f0de6e11a1e4",
   "metadata": {},
   "outputs": [
    {
     "name": "stdout",
     "output_type": "stream",
     "text": [
      "==================================\u001b[1m Ai Message \u001b[0m==================================\n",
      "Name: Bot\n",
      "\n",
      "So you said you were researching ocean mammals?\n",
      "================================\u001b[1m Human Message \u001b[0m=================================\n",
      "Name: Lance\n",
      "\n",
      "Yes, I know about whales. But what others should I learn about?\n",
      "==================================\u001b[1m Ai Message \u001b[0m==================================\n",
      "\n",
      "In addition to whales, there are several other fascinating ocean mammals you might want to learn about:\n",
      "\n",
      "1. **Dolphins**: Known for their intelligence and playful behavior, dolphins are part of the cetacean family, which includes whales, and they are often seen in pods.\n",
      "\n",
      "2. **Porpoises**: Similar to dolphins but generally smaller and with a different body shape, porpoises are also social animals and are known for their shy nature.\n",
      "\n",
      "3. **Seals**: There are several species of seals, including harbor seals and elephant seals. They are known for their playful nature and can often be seen lounging on rocks or beaches.\n",
      "\n",
      "4. **Sea Lions**: Similar to seals but with external ear flaps and a more social behavior, sea lions are often seen in large colonies.\n",
      "\n",
      "5. **Manatees**: Also known as sea cows, manatees are herbivorous mammals that inhabit warm coastal waters, rivers, and springs.\n",
      "\n",
      "6. **Dugongs**: Similar to manatees, dugongs are also herbivorous and are found in warm coastal waters, primarily in the Indo-Pacific region.\n",
      "\n",
      "7. **Narwhals**: Known for their long, spiral tusks, narwhals are unique to Arctic waters and are sometimes referred to as the \"unicorns of the sea.\"\n",
      "\n",
      "8. **Beluga Whales**: Known for their distinctive white color and vocalizations, belugas are social animals that inhabit Arctic and sub-Arctic regions.\n",
      "\n",
      "9. **Orcas (Killer Whales)**: Technically the largest members of the dolphin family, orcas are highly social predators known for their complex social structures and hunting techniques.\n",
      "\n",
      "10. **Sperm Whales**: The largest toothed whales, sperm whales are known for their deep-diving abilities and distinct block-shaped heads.\n",
      "\n",
      "Each of these mammals has unique behaviors, adaptations, and ecological roles, making them intriguing subjects for study!\n",
      "================================\u001b[1m Human Message \u001b[0m=================================\n",
      "Name: Lance\n",
      "\n",
      "Tell me more about Narwhals!\n",
      "==================================\u001b[1m Ai Message \u001b[0m==================================\n",
      "\n",
      "Narwhals (Monodon monoceros) are fascinating marine mammals known for their distinctive long, spiral tusk, which is actually an elongated tooth. Here are some key points about narwhals:\n",
      "\n",
      "1. **Habitat**: Narwhals are found primarily in the Arctic waters of Canada, Greenland, Norway, and Russia. They prefer deep waters and often inhabit areas with thick sea ice.\n",
      "\n",
      "2. **Physical Characteristics**: Adult narwhals typically measure between 13 to 20 feet (4 to 6 meters) in length. The males are known for their tusks, which can grow up to 10 feet (3 meters) long. Females usually do not have tusks, though some may have a small tooth that does not protrude.\n",
      "\n",
      "3. **Diet**: Narwhals primarily feed on fish, squid, and shrimp. They are known to dive to great depths, sometimes exceeding 1,500 meters (4,900 feet), to hunt for food.\n",
      "\n",
      "4. **Social Behavior**: Narwhals are social animals and are often found in groups, known as pods, which can consist of 15 to 20 individuals or more. They are known to communicate through clicks, whistles, and other sounds.\n",
      "\n",
      "5. **Tusk Function**: The tusk of the narwhal is thought to have various functions, including mating displays, social interactions, and possibly even sensory functions, as it contains nerve endings that may help them detect changes in their environment.\n",
      "\n",
      "6. **Reproduction**: Narwhals have a gestation period of about 14 to 16 months. Females typically give birth to a single calf, usually in the spring, and the calf stays with its mother for about a year.\n",
      "\n",
      "7. **Conservation Status**: Narwhals are currently listed as \"Near Threatened\" by the International Union for Conservation of Nature (IUCN). They face threats from climate change, which affects their habitat, as well as hunting and industrial activities in the Arctic.\n",
      "\n",
      "8. **Cultural Significance**: Narwhals have been an important part of the culture and livelihood of Indigenous peoples in the Arctic for centuries. Their tusks were historically used as a material for art and tools.\n",
      "\n",
      "Narwhals are truly unique creatures, and their adaptations to life in the Arctic make them a subject of fascination for scientists and wildlife enthusiasts alike.\n",
      "================================\u001b[1m Human Message \u001b[0m=================================\n",
      "Name: Lance\n",
      "\n",
      "Tell me more about Narwhals!\n",
      "==================================\u001b[1m Ai Message \u001b[0m==================================\n",
      "\n",
      "Narwhals (Monodon monoceros) are fascinating marine mammals known for their long, spiral tusk, which is actually an elongated tooth. Here are some interesting facts about narwhals:\n",
      "\n",
      "1. **Habitat**: Narwhals are found primarily in the Arctic waters around Greenland, Canada, and Russia. They prefer deep, icy waters and often inhabit areas with sea ice.\n",
      "\n",
      "2. **Tusk**: The tusk of a narwhal can grow up to 10 feet (3 meters) long and is most commonly found in males, although some females can also develop a tusk. The tusk is thought to have sensory capabilities and may play a role in social interactions and mating.\n",
      "\n",
      "3. **Diet**: Narwhals primarily feed on fish, squid, and other marine organisms. They are known to dive deep underwater to hunt, reaching depths of over 1,500 meters (4,920 feet).\n",
      "\n",
      "4. **Social Structure**: Narwhals are social animals and often found in groups called pods, which can range from a few individuals to several dozen. They are known for their vocalizations, which include clicks, whistles, and pulsive sounds used for communication and echolocation.\n",
      "\n",
      "5. **Reproduction**: Female narwhals typically give birth to a single calf after a gestation period of about 14 to 16 months. Calves are usually born in the spring and are dependent on their mothers for nourishment and protection for the first year of their lives.\n",
      "\n",
      "6. **Conservation Status**: Narwhals are currently listed as \"Near Threatened\" by the IUCN Red List. They face threats from climate change, which impacts their sea ice habitat, as well as hunting and industrial activities in the Arctic.\n",
      "\n",
      "7. **Cultural Significance**: Narwhals have been part of Arctic Indigenous cultures for centuries. Their tusks were historically used as a material for various tools and artworks, and they hold cultural significance for many Indigenous peoples.\n",
      "\n",
      "Narwhals are unique creatures that play an important role in their ecosystem and continue to captivate the interest of scientists and nature enthusiasts alike.\n"
     ]
    }
   ],
   "source": [
    "output = graph.invoke({'messages': messages})\n",
    "for m in output['messages']:\n",
    "    m.pretty_print()"
   ]
  },
  {
   "cell_type": "markdown",
   "id": "34c33e63-1ef4-412d-bb10-6a1b9e5b35a7",
   "metadata": {},
   "source": [
    "## Reducer\n",
    "\n",
    "A practical challenge when working with messages is managing long-running conversations. \n",
    "\n",
    "Long-running conversations result in high token usage and latency if we are not careful, because we pass a growing list of messages to the model.\n",
    "\n",
    "We have a few ways to address this.\n",
    "\n",
    "First, recall the trick we saw using `RemoveMessage` and the `add_messages` reducer."
   ]
  },
  {
   "cell_type": "code",
   "execution_count": 63,
   "id": "222c6bc5-bb0e-4a43-80f5-c8ec38d99f3a",
   "metadata": {},
   "outputs": [
    {
     "data": {
      "image/jpeg": "[encoded data removed]",
      "text/plain": [
       "<IPython.core.display.Image object>"
      ]
     },
     "metadata": {},
     "output_type": "display_data"
    }
   ],
   "source": [
    "from langchain_core.messages import RemoveMessage\n",
    "\n",
    "# Nodes\n",
    "def filter_messages(state: MessagesState):\n",
    "    # Delete all but the 2 most recent messages\n",
    "    delete_messages = [RemoveMessage(id=m.id) for m in state[\"messages\"][:-2]]\n",
    "    return {\"messages\": delete_messages}\n",
    "\n",
    "def chat_model_node(state: MessagesState):    \n",
    "    return {\"messages\": [llm.invoke(state[\"messages\"])]}\n",
    "\n",
    "# Build graph\n",
    "builder = StateGraph(MessagesState)\n",
    "builder.add_node(\"filter\", filter_messages)\n",
    "builder.add_node(\"chat_model\", chat_model_node)\n",
    "builder.add_edge(START, \"filter\")\n",
    "builder.add_edge(\"filter\", \"chat_model\")\n",
    "builder.add_edge(\"chat_model\", END)\n",
    "graph = builder.compile()\n",
    "\n",
    "# View\n",
    "display(Image(graph.get_graph().draw_mermaid_png()))"
   ]
  },
  {
   "cell_type": "code",
   "execution_count": 64,
   "id": "95a7c2cc-54ce-43e7-9a90-abf37827d709",
   "metadata": {},
   "outputs": [
    {
     "name": "stdout",
     "output_type": "stream",
     "text": [
      "==================================\u001b[1m Ai Message \u001b[0m==================================\n",
      "Name: Bot\n",
      "\n",
      "So you said you were researching ocean mammals?\n",
      "================================\u001b[1m Human Message \u001b[0m=================================\n",
      "Name: Lance\n",
      "\n",
      "Yes, I know about whales. But what others should I learn about?\n",
      "==================================\u001b[1m Ai Message \u001b[0m==================================\n",
      "\n",
      "In addition to whales, there are several other fascinating ocean mammals you might want to learn about:\n",
      "\n",
      "1. **Dolphins** - Known for their intelligence and playful behavior, dolphins are social animals that live in pods and have complex communication systems.\n",
      "\n",
      "2. **Porpoises** - Similar to dolphins but generally smaller and with a different snout shape, porpoises are also highly social and often found in coastal waters.\n",
      "\n",
      "3. **Seals** - There are many species of seals, including harbor seals and elephant seals. They are known for their playful nature and can often be seen basking on rocks or beaches.\n",
      "\n",
      "4. **Sea Lions** - Similar to seals but with external ear flaps and more agile on land, sea lions are also very social and often engage in vocalizations.\n",
      "\n",
      "5. **Manatees** - Sometimes called \"sea cows,\" manatees are gentle herbivores that inhabit warm coastal waters and rivers.\n",
      "\n",
      "6. **Dugongs** - Similar to manatees, dugongs are also herbivorous marine mammals found in warm coastal waters, particularly in the Indo-Pacific region.\n",
      "\n",
      "7. **Narwhals** - Known for their long, spiral tusks, narwhals are often referred to as the \"unicorns of the sea\" and are found in Arctic waters.\n",
      "\n",
      "8. **Beluga Whales** - These white whales are known for their vocalizations and social nature. They inhabit Arctic and sub-Arctic waters.\n",
      "\n",
      "9. **Orcas (Killer Whales)** - Highly intelligent and social, orcas are actually the largest members of the dolphin family and are found in oceans worldwide.\n",
      "\n",
      "10. **Sperm Whales** - Known for their large size and deep-diving capabilities, sperm whales are fascinating creatures that can dive to great depths in search of squid.\n",
      "\n",
      "Each of these marine mammals has unique adaptations and behaviors that make them interesting subjects for study!\n"
     ]
    }
   ],
   "source": [
    "# Message list with a preamble\n",
    "messages = [AIMessage(\"Hi.\", name=\"Bot\", id=\"1\")]\n",
    "messages.append(HumanMessage(\"Hi.\", name=\"Lance\", id=\"2\"))\n",
    "messages.append(AIMessage(\"So you said you were researching ocean mammals?\", name=\"Bot\", id=\"3\"))\n",
    "messages.append(HumanMessage(\"Yes, I know about whales. But what others should I learn about?\", name=\"Lance\", id=\"4\"))\n",
    "\n",
    "# Invoke\n",
    "output = graph.invoke({'messages': messages})\n",
    "for m in output['messages']:\n",
    "    m.pretty_print()"
   ]
  },
  {
   "cell_type": "markdown",
   "id": "f506457d-014b-4fee-a684-e5edfb4b8f0d",
   "metadata": {},
   "source": [
    "## Filtering messages\n",
    "\n",
    "If you don't need or want to modify the graph state, you can just filter the messages you pass to the chat model.\n",
    "\n",
    "For example, just pass in a filtered list: `llm.invoke(messages[-1:])` to the model."
   ]
  },
  {
   "cell_type": "code",
   "execution_count": 65,
   "id": "22d0b904-7cd6-486b-8948-105bee3d4683",
   "metadata": {},
   "outputs": [
    {
     "data": {
      "image/jpeg": "[encoded data removed]",
      "text/plain": [
       "<IPython.core.display.Image object>"
      ]
     },
     "metadata": {},
     "output_type": "display_data"
    }
   ],
   "source": [
    "# Node\n",
    "def chat_model_node(state: MessagesState):\n",
    "    return {\"messages\": [llm.invoke(state[\"messages\"][-1:])]}\n",
    "\n",
    "# Build graph\n",
    "builder = StateGraph(MessagesState)\n",
    "builder.add_node(\"chat_model\", chat_model_node)\n",
    "builder.add_edge(START, \"chat_model\")\n",
    "builder.add_edge(\"chat_model\", END)\n",
    "graph = builder.compile()\n",
    "\n",
    "# View\n",
    "display(Image(graph.get_graph().draw_mermaid_png()))"
   ]
  },
  {
   "cell_type": "markdown",
   "id": "6f58c6fc-532f-418d-b70a-cfcb3307daf5",
   "metadata": {},
   "source": [
    "Let's take our existing list of messages, append the above LLM response, and append a follow-up question."
   ]
  },
  {
   "cell_type": "code",
   "execution_count": 70,
   "id": "16956015-1dbe-4108-89b5-4209b68b51ca",
   "metadata": {},
   "outputs": [],
   "source": [
    "messages.append(output['messages'][-1])\n",
    "messages.append(HumanMessage(f\"Tell me more about Narwhals!\", name=\"Lance\"))"
   ]
  },
  {
   "cell_type": "code",
   "execution_count": 71,
   "id": "85563415-c085-46a8-a4ac-155df798c54e",
   "metadata": {},
   "outputs": [
    {
     "name": "stdout",
     "output_type": "stream",
     "text": [
      "==================================\u001b[1m Ai Message \u001b[0m==================================\n",
      "Name: Bot\n",
      "\n",
      "Hi.\n",
      "================================\u001b[1m Human Message \u001b[0m=================================\n",
      "Name: Lance\n",
      "\n",
      "Hi.\n",
      "==================================\u001b[1m Ai Message \u001b[0m==================================\n",
      "Name: Bot\n",
      "\n",
      "So you said you were researching ocean mammals?\n",
      "================================\u001b[1m Human Message \u001b[0m=================================\n",
      "Name: Lance\n",
      "\n",
      "Yes, I know about whales. But what others should I learn about?\n",
      "==================================\u001b[1m Ai Message \u001b[0m==================================\n",
      "\n",
      "In addition to whales, there are several other fascinating ocean mammals you might want to learn about:\n",
      "\n",
      "1. **Dolphins** - Known for their intelligence and playful behavior, dolphins are social animals that live in pods and have complex communication systems.\n",
      "\n",
      "2. **Porpoises** - Similar to dolphins but generally smaller and with a different snout shape, porpoises are also highly social and often found in coastal waters.\n",
      "\n",
      "3. **Seals** - There are many species of seals, including harbor seals and elephant seals. They are known for their playful nature and can often be seen basking on rocks or beaches.\n",
      "\n",
      "4. **Sea Lions** - Similar to seals but with external ear flaps and more agile on land, sea lions are also very social and often engage in vocalizations.\n",
      "\n",
      "5. **Manatees** - Sometimes called \"sea cows,\" manatees are gentle herbivores that inhabit warm coastal waters and rivers.\n",
      "\n",
      "6. **Dugongs** - Similar to manatees, dugongs are also herbivorous marine mammals found in warm coastal waters, particularly in the Indo-Pacific region.\n",
      "\n",
      "7. **Narwhals** - Known for their long, spiral tusks, narwhals are often referred to as the \"unicorns of the sea\" and are found in Arctic waters.\n",
      "\n",
      "8. **Beluga Whales** - These white whales are known for their vocalizations and social nature. They inhabit Arctic and sub-Arctic waters.\n",
      "\n",
      "9. **Orcas (Killer Whales)** - Highly intelligent and social, orcas are actually the largest members of the dolphin family and are found in oceans worldwide.\n",
      "\n",
      "10. **Sperm Whales** - Known for their large size and deep-diving capabilities, sperm whales are fascinating creatures that can dive to great depths in search of squid.\n",
      "\n",
      "Each of these marine mammals has unique adaptations and behaviors that make them interesting subjects for study!\n",
      "================================\u001b[1m Human Message \u001b[0m=================================\n",
      "Name: Lance\n",
      "\n",
      "Tell me more about Narwhals!\n",
      "==================================\u001b[1m Ai Message \u001b[0m==================================\n",
      "\n",
      "In addition to whales, there are several other fascinating ocean mammals you might want to learn about:\n",
      "\n",
      "1. **Dolphins** - Known for their intelligence and playful behavior, dolphins are social animals that live in pods and have complex communication systems.\n",
      "\n",
      "2. **Porpoises** - Similar to dolphins but generally smaller and with a different snout shape, porpoises are also highly social and often found in coastal waters.\n",
      "\n",
      "3. **Seals** - There are many species of seals, including harbor seals and elephant seals. They are known for their playful nature and can often be seen basking on rocks or beaches.\n",
      "\n",
      "4. **Sea Lions** - Similar to seals but with external ear flaps and more agile on land, sea lions are also very social and often engage in vocalizations.\n",
      "\n",
      "5. **Manatees** - Sometimes called \"sea cows,\" manatees are gentle herbivores that inhabit warm coastal waters and rivers.\n",
      "\n",
      "6. **Dugongs** - Similar to manatees, dugongs are also herbivorous marine mammals found in warm coastal waters, particularly in the Indo-Pacific region.\n",
      "\n",
      "7. **Narwhals** - Known for their long, spiral tusks, narwhals are often referred to as the \"unicorns of the sea\" and are found in Arctic waters.\n",
      "\n",
      "8. **Beluga Whales** - These white whales are known for their vocalizations and social nature. They inhabit Arctic and sub-Arctic waters.\n",
      "\n",
      "9. **Orcas (Killer Whales)** - Highly intelligent and social, orcas are actually the largest members of the dolphin family and are found in oceans worldwide.\n",
      "\n",
      "10. **Sperm Whales** - Known for their large size and deep-diving capabilities, sperm whales are fascinating creatures that can dive to great depths in search of squid.\n",
      "\n",
      "Each of these marine mammals has unique adaptations and behaviors that make them interesting subjects for study!\n",
      "================================\u001b[1m Human Message \u001b[0m=================================\n",
      "Name: Lance\n",
      "\n",
      "Tell me more about Narwhals!\n"
     ]
    }
   ],
   "source": [
    "for m in messages:\n",
    "    m.pretty_print()"
   ]
  },
  {
   "cell_type": "code",
   "execution_count": 72,
   "id": "23349705-a059-47b5-9760-d8f64e687393",
   "metadata": {},
   "outputs": [
    {
     "name": "stdout",
     "output_type": "stream",
     "text": [
      "==================================\u001b[1m Ai Message \u001b[0m==================================\n",
      "Name: Bot\n",
      "\n",
      "Hi.\n",
      "================================\u001b[1m Human Message \u001b[0m=================================\n",
      "Name: Lance\n",
      "\n",
      "Hi.\n",
      "==================================\u001b[1m Ai Message \u001b[0m==================================\n",
      "Name: Bot\n",
      "\n",
      "So you said you were researching ocean mammals?\n",
      "================================\u001b[1m Human Message \u001b[0m=================================\n",
      "Name: Lance\n",
      "\n",
      "Yes, I know about whales. But what others should I learn about?\n",
      "==================================\u001b[1m Ai Message \u001b[0m==================================\n",
      "\n",
      "In addition to whales, there are several other fascinating ocean mammals you might want to learn about:\n",
      "\n",
      "1. **Dolphins** - Known for their intelligence and playful behavior, dolphins are social animals that live in pods and have complex communication systems.\n",
      "\n",
      "2. **Porpoises** - Similar to dolphins but generally smaller and with a different snout shape, porpoises are also highly social and often found in coastal waters.\n",
      "\n",
      "3. **Seals** - There are many species of seals, including harbor seals and elephant seals. They are known for their playful nature and can often be seen basking on rocks or beaches.\n",
      "\n",
      "4. **Sea Lions** - Similar to seals but with external ear flaps and more agile on land, sea lions are also very social and often engage in vocalizations.\n",
      "\n",
      "5. **Manatees** - Sometimes called \"sea cows,\" manatees are gentle herbivores that inhabit warm coastal waters and rivers.\n",
      "\n",
      "6. **Dugongs** - Similar to manatees, dugongs are also herbivorous marine mammals found in warm coastal waters, particularly in the Indo-Pacific region.\n",
      "\n",
      "7. **Narwhals** - Known for their long, spiral tusks, narwhals are often referred to as the \"unicorns of the sea\" and are found in Arctic waters.\n",
      "\n",
      "8. **Beluga Whales** - These white whales are known for their vocalizations and social nature. They inhabit Arctic and sub-Arctic waters.\n",
      "\n",
      "9. **Orcas (Killer Whales)** - Highly intelligent and social, orcas are actually the largest members of the dolphin family and are found in oceans worldwide.\n",
      "\n",
      "10. **Sperm Whales** - Known for their large size and deep-diving capabilities, sperm whales are fascinating creatures that can dive to great depths in search of squid.\n",
      "\n",
      "Each of these marine mammals has unique adaptations and behaviors that make them interesting subjects for study!\n",
      "================================\u001b[1m Human Message \u001b[0m=================================\n",
      "Name: Lance\n",
      "\n",
      "Tell me more about Narwhals!\n",
      "==================================\u001b[1m Ai Message \u001b[0m==================================\n",
      "\n",
      "In addition to whales, there are several other fascinating ocean mammals you might want to learn about:\n",
      "\n",
      "1. **Dolphins** - Known for their intelligence and playful behavior, dolphins are social animals that live in pods and have complex communication systems.\n",
      "\n",
      "2. **Porpoises** - Similar to dolphins but generally smaller and with a different snout shape, porpoises are also highly social and often found in coastal waters.\n",
      "\n",
      "3. **Seals** - There are many species of seals, including harbor seals and elephant seals. They are known for their playful nature and can often be seen basking on rocks or beaches.\n",
      "\n",
      "4. **Sea Lions** - Similar to seals but with external ear flaps and more agile on land, sea lions are also very social and often engage in vocalizations.\n",
      "\n",
      "5. **Manatees** - Sometimes called \"sea cows,\" manatees are gentle herbivores that inhabit warm coastal waters and rivers.\n",
      "\n",
      "6. **Dugongs** - Similar to manatees, dugongs are also herbivorous marine mammals found in warm coastal waters, particularly in the Indo-Pacific region.\n",
      "\n",
      "7. **Narwhals** - Known for their long, spiral tusks, narwhals are often referred to as the \"unicorns of the sea\" and are found in Arctic waters.\n",
      "\n",
      "8. **Beluga Whales** - These white whales are known for their vocalizations and social nature. They inhabit Arctic and sub-Arctic waters.\n",
      "\n",
      "9. **Orcas (Killer Whales)** - Highly intelligent and social, orcas are actually the largest members of the dolphin family and are found in oceans worldwide.\n",
      "\n",
      "10. **Sperm Whales** - Known for their large size and deep-diving capabilities, sperm whales are fascinating creatures that can dive to great depths in search of squid.\n",
      "\n",
      "Each of these marine mammals has unique adaptations and behaviors that make them interesting subjects for study!\n",
      "================================\u001b[1m Human Message \u001b[0m=================================\n",
      "Name: Lance\n",
      "\n",
      "Tell me more about Narwhals!\n",
      "==================================\u001b[1m Ai Message \u001b[0m==================================\n",
      "\n",
      "Narwhals (Monodon monoceros) are unique marine mammals known for their long, spiral tusks, which are actually elongated teeth. These tusks can grow up to 10 feet (3 meters) in length and are primarily found in males, although some females may also develop smaller tusks. The tusk is thought to play a role in mating displays and social interactions, although its exact function is still not fully understood.\n",
      "\n",
      "### Habitat and Distribution\n",
      "Narwhals are found predominantly in the Arctic waters surrounding Greenland, Canada, and Russia. They prefer deep, icy waters and can often be found in areas with sea ice, where they dive to find food.\n",
      "\n",
      "### Diet\n",
      "Narwhals primarily feed on fish, squid, and shrimp. They are known to dive deep—sometimes over 1,500 meters (4,900 feet)—to hunt for their prey. Their ability to hold their breath for extended periods allows them to access food sources that are not available to many other marine mammals.\n",
      "\n",
      "### Social Structure\n",
      "Narwhals are social animals and typically live in groups called pods, which can range from a few individuals to several dozen. These pods often consist of females and their young, while adult males may be more solitary or form smaller bachelor groups.\n",
      "\n",
      "### Reproduction\n",
      "Breeding occurs in the spring, and after a gestation period of about 14 months, females give birth to a single calf, usually in the summer. Calves are born with a layer of blubber to help them survive in cold waters and are nursed for about a year.\n",
      "\n",
      "### Threats and Conservation\n",
      "Narwhals face several threats, including climate change, which affects their ice habitat, and increased human activity in the Arctic, including shipping and oil exploration. They are also vulnerable to hunting, particularly in indigenous communities where they are a traditional source of food. Conservation efforts are in place to monitor populations and protect their habitats.\n",
      "\n",
      "### Interesting Facts\n",
      "- Narwhals are sometimes referred to as the \"unicorns of the sea\" due to their distinctive tusks.\n",
      "- Their tusks contain sensory nerves, which may help them detect changes in their environment.\n",
      "- Narwhals can live for over 50 years, with some individuals reaching ages of 90 years or more.\n",
      "\n",
      "Overall, narwhals are fascinating creatures that play an important role in their Arctic ecosystem, and ongoing research is crucial to ensure their survival in a changing world.\n"
     ]
    }
   ],
   "source": [
    "# Invoke, using message filtering\n",
    "output = graph.invoke({'messages': messages})\n",
    "for m in output['messages']:\n",
    "    m.pretty_print()"
   ]
  },
  {
   "cell_type": "markdown",
   "id": "42e1d8d2-e297-4d78-b54c-d12b3c866745",
   "metadata": {},
   "source": [
    "The state has all of the mesages.\n",
    "\n",
    "But, let's look at the LangSmith trace to see that the model invocation only uses the last message:\n",
    "\n",
    "https://smith.langchain.com/public/75aca3ce-ef19-4b92-94be-0178c7a660d9/r"
   ]
  },
  {
   "cell_type": "markdown",
   "id": "fc40d930-3c1f-47fe-8d2a-ce174873353c",
   "metadata": {},
   "source": [
    "## Trim messages\n",
    "\n",
    "Another approach is to [trim messages](https://python.langchain.com/v0.2/docs/how_to/trim_messages/#getting-the-last-max_tokens-tokens), based upon a set number of tokens. \n",
    "\n",
    "This restricts the message history to a specified number of tokens.\n",
    "\n",
    "While filtering only returns a post-hoc subset of the messages between agents, trimming restricts the number of tokens that a chat model can use to respond.\n",
    "\n",
    "See the `trim_messages` below."
   ]
  },
  {
   "cell_type": "code",
   "execution_count": 85,
   "id": "2ff99b81-cf03-4cc2-b44f-44829a73e1fd",
   "metadata": {},
   "outputs": [
    {
     "data": {
      "image/jpeg": "[encoded data removed]",
      "text/plain": [
       "<IPython.core.display.Image object>"
      ]
     },
     "metadata": {},
     "output_type": "display_data"
    }
   ],
   "source": [
    "from langchain_core.messages import trim_messages\n",
    "\n",
    "# Node\n",
    "def chat_model_node(state: MessagesState):\n",
    "    messages = trim_messages(\n",
    "            state[\"messages\"],\n",
    "            max_tokens=100,\n",
    "            strategy=\"last\",\n",
    "            token_counter=ChatOpenAI(model=\"gpt-4o-mini\"),\n",
    "            allow_partial=True, # or False\n",
    "        )\n",
    "    return {\"messages\": [llm.invoke(messages)]}\n",
    "\n",
    "# Build graph\n",
    "builder = StateGraph(MessagesState)\n",
    "builder.add_node(\"chat_model\", chat_model_node)\n",
    "builder.add_edge(START, \"chat_model\")\n",
    "builder.add_edge(\"chat_model\", END)\n",
    "graph = builder.compile()\n",
    "\n",
    "# View\n",
    "display(Image(graph.get_graph().draw_mermaid_png()))"
   ]
  },
  {
   "cell_type": "code",
   "execution_count": 86,
   "id": "24df63ac-da29-4874-b3df-7e390e97cc8a",
   "metadata": {},
   "outputs": [],
   "source": [
    "messages.append(output['messages'][-1])\n",
    "messages.append(HumanMessage(f\"Tell me where Orcas live!\", name=\"Lance\"))"
   ]
  },
  {
   "cell_type": "code",
   "execution_count": 87,
   "id": "6d9d8971-c75c-43ca-a209-eb1d07b2ead0",
   "metadata": {},
   "outputs": [
    {
     "data": {
      "text/plain": [
       "[AIMessage(content='- Their tusks contain sensory nerves, which may help them detect changes in their environment.\\n- Narwhals can live for over 50 years, with some individuals reaching ages of 90 years or more.\\n\\nOverall, narwhals are fascinating creatures that play an important role in their Arctic ecosystem, and ongoing research is crucial to ensure their survival in a changing world.', additional_kwargs={'refusal': None}, response_metadata={'token_usage': {'completion_tokens': 488, 'prompt_tokens': 17, 'total_tokens': 505, 'completion_tokens_details': {'reasoning_tokens': 0}}, 'model_name': 'gpt-4o-mini-2024-07-18', 'system_fingerprint': 'fp_1bb46167f9', 'finish_reason': 'stop', 'logprobs': None}, id='run-97763cfd-302f-4ada-a1c8-09ea5aa40279-0', usage_metadata={'input_tokens': 17, 'output_tokens': 488, 'total_tokens': 505}),\n",
       " HumanMessage(content='Tell me where Orcas live!', additional_kwargs={}, response_metadata={}, name='Lance')]"
      ]
     },
     "execution_count": 87,
     "metadata": {},
     "output_type": "execute_result"
    }
   ],
   "source": [
    "trim_messages(\n",
    "            messages,\n",
    "            max_tokens=100,\n",
    "            strategy=\"last\",\n",
    "            token_counter=ChatOpenAI(model=\"gpt-4o\"),\n",
    "            allow_partial=True\n",
    "        )"
   ]
  },
  {
   "cell_type": "code",
   "execution_count": 92,
   "id": "daf367f6",
   "metadata": {},
   "outputs": [
    {
     "data": {
      "text/plain": [
       "[HumanMessage(content='Tell me where Orcas live!', additional_kwargs={}, response_metadata={}, name='Lance', id='d82c767e-d287-42e3-a31a-a50e1a59abe0')]"
      ]
     },
     "execution_count": 92,
     "metadata": {},
     "output_type": "execute_result"
    }
   ],
   "source": [
    "trim_messages(\n",
    "            messages,\n",
    "            max_tokens=100,\n",
    "            strategy=\"last\",\n",
    "            token_counter=ChatOpenAI(model=\"gpt-4o-mini\"),\n",
    "            allow_partial=False\n",
    "            )"
   ]
  },
  {
   "cell_type": "code",
   "execution_count": 88,
   "id": "ed70a269-a869-4fa0-a1df-29736a432c51",
   "metadata": {},
   "outputs": [],
   "source": [
    "# Invoke, using message trimming\n",
    "messages_out_trim = graph.invoke({'messages': messages})"
   ]
  },
  {
   "cell_type": "code",
   "execution_count": 89,
   "id": "e38de89d",
   "metadata": {},
   "outputs": [
    {
     "name": "stdout",
     "output_type": "stream",
     "text": [
      "==================================\u001b[1m Ai Message \u001b[0m==================================\n",
      "Name: Bot\n",
      "\n",
      "Hi.\n",
      "================================\u001b[1m Human Message \u001b[0m=================================\n",
      "Name: Lance\n",
      "\n",
      "Hi.\n",
      "==================================\u001b[1m Ai Message \u001b[0m==================================\n",
      "Name: Bot\n",
      "\n",
      "So you said you were researching ocean mammals?\n",
      "================================\u001b[1m Human Message \u001b[0m=================================\n",
      "Name: Lance\n",
      "\n",
      "Yes, I know about whales. But what others should I learn about?\n",
      "==================================\u001b[1m Ai Message \u001b[0m==================================\n",
      "\n",
      "In addition to whales, there are several other fascinating ocean mammals you might want to learn about:\n",
      "\n",
      "1. **Dolphins** - Known for their intelligence and playful behavior, dolphins are social animals that live in pods and have complex communication systems.\n",
      "\n",
      "2. **Porpoises** - Similar to dolphins but generally smaller and with a different snout shape, porpoises are also highly social and often found in coastal waters.\n",
      "\n",
      "3. **Seals** - There are many species of seals, including harbor seals and elephant seals. They are known for their playful nature and can often be seen basking on rocks or beaches.\n",
      "\n",
      "4. **Sea Lions** - Similar to seals but with external ear flaps and more agile on land, sea lions are also very social and often engage in vocalizations.\n",
      "\n",
      "5. **Manatees** - Sometimes called \"sea cows,\" manatees are gentle herbivores that inhabit warm coastal waters and rivers.\n",
      "\n",
      "6. **Dugongs** - Similar to manatees, dugongs are also herbivorous marine mammals found in warm coastal waters, particularly in the Indo-Pacific region.\n",
      "\n",
      "7. **Narwhals** - Known for their long, spiral tusks, narwhals are often referred to as the \"unicorns of the sea\" and are found in Arctic waters.\n",
      "\n",
      "8. **Beluga Whales** - These white whales are known for their vocalizations and social nature. They inhabit Arctic and sub-Arctic waters.\n",
      "\n",
      "9. **Orcas (Killer Whales)** - Highly intelligent and social, orcas are actually the largest members of the dolphin family and are found in oceans worldwide.\n",
      "\n",
      "10. **Sperm Whales** - Known for their large size and deep-diving capabilities, sperm whales are fascinating creatures that can dive to great depths in search of squid.\n",
      "\n",
      "Each of these marine mammals has unique adaptations and behaviors that make them interesting subjects for study!\n",
      "================================\u001b[1m Human Message \u001b[0m=================================\n",
      "Name: Lance\n",
      "\n",
      "Tell me more about Narwhals!\n",
      "==================================\u001b[1m Ai Message \u001b[0m==================================\n",
      "\n",
      "In addition to whales, there are several other fascinating ocean mammals you might want to learn about:\n",
      "\n",
      "1. **Dolphins** - Known for their intelligence and playful behavior, dolphins are social animals that live in pods and have complex communication systems.\n",
      "\n",
      "2. **Porpoises** - Similar to dolphins but generally smaller and with a different snout shape, porpoises are also highly social and often found in coastal waters.\n",
      "\n",
      "3. **Seals** - There are many species of seals, including harbor seals and elephant seals. They are known for their playful nature and can often be seen basking on rocks or beaches.\n",
      "\n",
      "4. **Sea Lions** - Similar to seals but with external ear flaps and more agile on land, sea lions are also very social and often engage in vocalizations.\n",
      "\n",
      "5. **Manatees** - Sometimes called \"sea cows,\" manatees are gentle herbivores that inhabit warm coastal waters and rivers.\n",
      "\n",
      "6. **Dugongs** - Similar to manatees, dugongs are also herbivorous marine mammals found in warm coastal waters, particularly in the Indo-Pacific region.\n",
      "\n",
      "7. **Narwhals** - Known for their long, spiral tusks, narwhals are often referred to as the \"unicorns of the sea\" and are found in Arctic waters.\n",
      "\n",
      "8. **Beluga Whales** - These white whales are known for their vocalizations and social nature. They inhabit Arctic and sub-Arctic waters.\n",
      "\n",
      "9. **Orcas (Killer Whales)** - Highly intelligent and social, orcas are actually the largest members of the dolphin family and are found in oceans worldwide.\n",
      "\n",
      "10. **Sperm Whales** - Known for their large size and deep-diving capabilities, sperm whales are fascinating creatures that can dive to great depths in search of squid.\n",
      "\n",
      "Each of these marine mammals has unique adaptations and behaviors that make them interesting subjects for study!\n",
      "================================\u001b[1m Human Message \u001b[0m=================================\n",
      "Name: Lance\n",
      "\n",
      "Tell me more about Narwhals!\n",
      "==================================\u001b[1m Ai Message \u001b[0m==================================\n",
      "\n",
      "Narwhals (Monodon monoceros) are unique marine mammals known for their long, spiral tusks, which are actually elongated teeth. These tusks can grow up to 10 feet (3 meters) in length and are primarily found in males, although some females may also develop smaller tusks. The tusk is thought to play a role in mating displays and social interactions, although its exact function is still not fully understood.\n",
      "\n",
      "### Habitat and Distribution\n",
      "Narwhals are found predominantly in the Arctic waters surrounding Greenland, Canada, and Russia. They prefer deep, icy waters and can often be found in areas with sea ice, where they dive to find food.\n",
      "\n",
      "### Diet\n",
      "Narwhals primarily feed on fish, squid, and shrimp. They are known to dive deep—sometimes over 1,500 meters (4,900 feet)—to hunt for their prey. Their ability to hold their breath for extended periods allows them to access food sources that are not available to many other marine mammals.\n",
      "\n",
      "### Social Structure\n",
      "Narwhals are social animals and typically live in groups called pods, which can range from a few individuals to several dozen. These pods often consist of females and their young, while adult males may be more solitary or form smaller bachelor groups.\n",
      "\n",
      "### Reproduction\n",
      "Breeding occurs in the spring, and after a gestation period of about 14 months, females give birth to a single calf, usually in the summer. Calves are born with a layer of blubber to help them survive in cold waters and are nursed for about a year.\n",
      "\n",
      "### Threats and Conservation\n",
      "Narwhals face several threats, including climate change, which affects their ice habitat, and increased human activity in the Arctic, including shipping and oil exploration. They are also vulnerable to hunting, particularly in indigenous communities where they are a traditional source of food. Conservation efforts are in place to monitor populations and protect their habitats.\n",
      "\n",
      "### Interesting Facts\n",
      "- Narwhals are sometimes referred to as the \"unicorns of the sea\" due to their distinctive tusks.\n",
      "- Their tusks contain sensory nerves, which may help them detect changes in their environment.\n",
      "- Narwhals can live for over 50 years, with some individuals reaching ages of 90 years or more.\n",
      "\n",
      "Overall, narwhals are fascinating creatures that play an important role in their Arctic ecosystem, and ongoing research is crucial to ensure their survival in a changing world.\n",
      "================================\u001b[1m Human Message \u001b[0m=================================\n",
      "Name: Lance\n",
      "\n",
      "Tell me where Orcas live!\n",
      "==================================\u001b[1m Ai Message \u001b[0m==================================\n",
      "\n",
      "Narwhals (Monodon monoceros) are unique marine mammals known for their long, spiral tusks, which are actually elongated teeth. These tusks can grow up to 10 feet (3 meters) in length and are primarily found in males, although some females may also develop smaller tusks. The tusk is thought to play a role in mating displays and social interactions, although its exact function is still not fully understood.\n",
      "\n",
      "### Habitat and Distribution\n",
      "Narwhals are found predominantly in the Arctic waters surrounding Greenland, Canada, and Russia. They prefer deep, icy waters and can often be found in areas with sea ice, where they dive to find food.\n",
      "\n",
      "### Diet\n",
      "Narwhals primarily feed on fish, squid, and shrimp. They are known to dive deep—sometimes over 1,500 meters (4,900 feet)—to hunt for their prey. Their ability to hold their breath for extended periods allows them to access food sources that are not available to many other marine mammals.\n",
      "\n",
      "### Social Structure\n",
      "Narwhals are social animals and typically live in groups called pods, which can range from a few individuals to several dozen. These pods often consist of females and their young, while adult males may be more solitary or form smaller bachelor groups.\n",
      "\n",
      "### Reproduction\n",
      "Breeding occurs in the spring, and after a gestation period of about 14 months, females give birth to a single calf, usually in the summer. Calves are born with a layer of blubber to help them survive in cold waters and are nursed for about a year.\n",
      "\n",
      "### Threats and Conservation\n",
      "Narwhals face several threats, including climate change, which affects their ice habitat, and increased human activity in the Arctic, including shipping and oil exploration. They are also vulnerable to hunting, particularly in indigenous communities where they are a traditional source of food. Conservation efforts are in place to monitor populations and protect their habitats.\n",
      "\n",
      "### Interesting Facts\n",
      "- Narwhals are sometimes referred to as the \"unicorns of the sea\" due to their distinctive tusks.\n",
      "- Their tusks contain sensory nerves, which may help them detect changes in their environment.\n",
      "- Narwhals can live for over 50 years, with some individuals reaching ages of 90 years or more.\n",
      "\n",
      "Overall, narwhals are fascinating creatures that play an important role in their Arctic ecosystem, and ongoing research is crucial to ensure their survival in a changing world.\n",
      "================================\u001b[1m Human Message \u001b[0m=================================\n",
      "Name: Lance\n",
      "\n",
      "Tell me where Orcas live!\n",
      "==================================\u001b[1m Ai Message \u001b[0m==================================\n",
      "\n",
      "Narwhals (Monodon monoceros) are unique marine mammals known for their long, spiral tusks, which are actually elongated teeth. These tusks can grow up to 10 feet (3 meters) in length and are primarily found in males, although some females may also develop smaller tusks. The tusk is thought to play a role in mating displays and social interactions, although its exact function is still not fully understood.\n",
      "\n",
      "### Habitat and Distribution\n",
      "Narwhals are found predominantly in the Arctic waters surrounding Greenland, Canada, and Russia. They prefer deep, icy waters and can often be found in areas with sea ice, where they dive to find food.\n",
      "\n",
      "### Diet\n",
      "Narwhals primarily feed on fish, squid, and shrimp. They are known to dive deep—sometimes over 1,500 meters (4,900 feet)—to hunt for their prey. Their ability to hold their breath for extended periods allows them to access food sources that are not available to many other marine mammals.\n",
      "\n",
      "### Social Structure\n",
      "Narwhals are social animals and typically live in groups called pods, which can range from a few individuals to several dozen. These pods often consist of females and their young, while adult males may be more solitary or form smaller bachelor groups.\n",
      "\n",
      "### Reproduction\n",
      "Breeding occurs in the spring, and after a gestation period of about 14 months, females give birth to a single calf, usually in the summer. Calves are born with a layer of blubber to help them survive in cold waters and are nursed for about a year.\n",
      "\n",
      "### Threats and Conservation\n",
      "Narwhals face several threats, including climate change, which affects their ice habitat, and increased human activity in the Arctic, including shipping and oil exploration. They are also vulnerable to hunting, particularly in indigenous communities where they are a traditional source of food. Conservation efforts are in place to monitor populations and protect their habitats.\n",
      "\n",
      "### Interesting Facts\n",
      "- Narwhals are sometimes referred to as the \"unicorns of the sea\" due to their distinctive tusks.\n",
      "- Their tusks contain sensory nerves, which may help them detect changes in their environment.\n",
      "- Narwhals can live for over 50 years, with some individuals reaching ages of 90 years or more.\n",
      "\n",
      "Overall, narwhals are fascinating creatures that play an important role in their Arctic ecosystem, and ongoing research is crucial to ensure their survival in a changing world.\n",
      "================================\u001b[1m Human Message \u001b[0m=================================\n",
      "Name: Lance\n",
      "\n",
      "Tell me where Orcas live!\n",
      "==================================\u001b[1m Ai Message \u001b[0m==================================\n",
      "\n",
      "Orcas, also known as killer whales, are found in oceans all around the world. They inhabit a wide range of marine environments, from the Arctic and Antarctic regions to tropical seas. They are most commonly found in colder coastal waters, such as the North Pacific, North Atlantic, and the Southern Ocean. However, some populations of orcas can also be found in warmer waters. Their adaptability to various environments allows them to thrive in both open ocean and coastal areas, making them one of the most widely distributed marine mammals.\n"
     ]
    }
   ],
   "source": [
    "for i in messages_out_trim[\"messages\"]: \n",
    "    i.pretty_print()"
   ]
  },
  {
   "cell_type": "markdown",
   "id": "38b3db67-380e-46b5-9a6a-20100ba52008",
   "metadata": {},
   "source": [
    "Let's look at the LangSmith trace to see the model invocation:\n",
    "\n",
    "https://smith.langchain.com/public/b153f7e9-f1a5-4d60-8074-f0d7ab5b42ef/r"
   ]
  }
 ],
 "metadata": {
  "kernelspec": {
   "display_name": "Python 3 (ipykernel)",
   "language": "python",
   "name": "python3"
  },
  "language_info": {
   "codemirror_mode": {
    "name": "ipython",
    "version": 3
   },
   "file_extension": ".py",
   "mimetype": "text/x-python",
   "name": "python",
   "nbconvert_exporter": "python",
   "pygments_lexer": "ipython3",
   "version": "3.11.9"
  }
 },
 "nbformat": 4,
 "nbformat_minor": 5
}
